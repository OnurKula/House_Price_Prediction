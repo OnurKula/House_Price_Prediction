{
 "cells": [
  {
   "cell_type": "code",
   "execution_count": 1,
   "id": "7f4d5d7c",
   "metadata": {},
   "outputs": [],
   "source": [
    "# y = a + b1x1 + b2x2 + ...  multiple linear regression"
   ]
  },
  {
   "cell_type": "code",
   "execution_count": 2,
   "id": "e5caa1fe",
   "metadata": {},
   "outputs": [],
   "source": [
    "# y = a + bx linear regression"
   ]
  },
  {
   "cell_type": "code",
   "execution_count": 3,
   "id": "d6b2461a",
   "metadata": {},
   "outputs": [],
   "source": [
    "import pandas as pd\n",
    "import matplotlib.pyplot as plt\n",
    "from sklearn import linear_model"
   ]
  },
  {
   "cell_type": "code",
   "execution_count": 4,
   "id": "5c832906",
   "metadata": {},
   "outputs": [],
   "source": [
    "df = pd.read_csv(\"regression.csv\",sep=\";\")"
   ]
  },
  {
   "cell_type": "code",
   "execution_count": 5,
   "id": "1de7d8f1",
   "metadata": {},
   "outputs": [
    {
     "data": {
      "text/html": [
       "<div>\n",
       "<style scoped>\n",
       "    .dataframe tbody tr th:only-of-type {\n",
       "        vertical-align: middle;\n",
       "    }\n",
       "\n",
       "    .dataframe tbody tr th {\n",
       "        vertical-align: top;\n",
       "    }\n",
       "\n",
       "    .dataframe thead th {\n",
       "        text-align: right;\n",
       "    }\n",
       "</style>\n",
       "<table border=\"1\" class=\"dataframe\">\n",
       "  <thead>\n",
       "    <tr style=\"text-align: right;\">\n",
       "      <th></th>\n",
       "      <th>area</th>\n",
       "      <th>number_of_room</th>\n",
       "      <th>building_age</th>\n",
       "      <th>distance_to_center</th>\n",
       "      <th>price</th>\n",
       "    </tr>\n",
       "  </thead>\n",
       "  <tbody>\n",
       "    <tr>\n",
       "      <th>0</th>\n",
       "      <td>180</td>\n",
       "      <td>5</td>\n",
       "      <td>10</td>\n",
       "      <td>30.0</td>\n",
       "      <td>510000</td>\n",
       "    </tr>\n",
       "    <tr>\n",
       "      <th>1</th>\n",
       "      <td>225</td>\n",
       "      <td>4</td>\n",
       "      <td>18</td>\n",
       "      <td>10.0</td>\n",
       "      <td>600000</td>\n",
       "    </tr>\n",
       "    <tr>\n",
       "      <th>2</th>\n",
       "      <td>260</td>\n",
       "      <td>3</td>\n",
       "      <td>2</td>\n",
       "      <td>1.0</td>\n",
       "      <td>750000</td>\n",
       "    </tr>\n",
       "    <tr>\n",
       "      <th>3</th>\n",
       "      <td>320</td>\n",
       "      <td>6</td>\n",
       "      <td>10</td>\n",
       "      <td>0.5</td>\n",
       "      <td>990000</td>\n",
       "    </tr>\n",
       "    <tr>\n",
       "      <th>4</th>\n",
       "      <td>335</td>\n",
       "      <td>4</td>\n",
       "      <td>9</td>\n",
       "      <td>10.0</td>\n",
       "      <td>870000</td>\n",
       "    </tr>\n",
       "    <tr>\n",
       "      <th>5</th>\n",
       "      <td>345</td>\n",
       "      <td>5</td>\n",
       "      <td>14</td>\n",
       "      <td>5.0</td>\n",
       "      <td>890000</td>\n",
       "    </tr>\n",
       "    <tr>\n",
       "      <th>6</th>\n",
       "      <td>355</td>\n",
       "      <td>3</td>\n",
       "      <td>0</td>\n",
       "      <td>1.0</td>\n",
       "      <td>999000</td>\n",
       "    </tr>\n",
       "    <tr>\n",
       "      <th>7</th>\n",
       "      <td>400</td>\n",
       "      <td>4</td>\n",
       "      <td>10</td>\n",
       "      <td>5.0</td>\n",
       "      <td>1000000</td>\n",
       "    </tr>\n",
       "  </tbody>\n",
       "</table>\n",
       "</div>"
      ],
      "text/plain": [
       "   area  number_of_room  building_age  distance_to_center    price\n",
       "0   180               5            10                30.0   510000\n",
       "1   225               4            18                10.0   600000\n",
       "2   260               3             2                 1.0   750000\n",
       "3   320               6            10                 0.5   990000\n",
       "4   335               4             9                10.0   870000\n",
       "5   345               5            14                 5.0   890000\n",
       "6   355               3             0                 1.0   999000\n",
       "7   400               4            10                 5.0  1000000"
      ]
     },
     "execution_count": 5,
     "metadata": {},
     "output_type": "execute_result"
    }
   ],
   "source": [
    "df"
   ]
  },
  {
   "cell_type": "code",
   "execution_count": 10,
   "id": "74544059",
   "metadata": {},
   "outputs": [
    {
     "name": "stderr",
     "output_type": "stream",
     "text": [
      "C:\\Users\\16088\\anaconda3\\lib\\site-packages\\sklearn\\base.py:420: UserWarning: X does not have valid feature names, but LinearRegression was fitted with feature names\n",
      "  warnings.warn(\n"
     ]
    },
    {
     "data": {
      "text/plain": [
       "array([632684.45902283])"
      ]
     },
     "execution_count": 10,
     "metadata": {},
     "output_type": "execute_result"
    }
   ],
   "source": [
    "reg = linear_model.LinearRegression()\n",
    "reg.fit(df[[\"area\",\"number_of_room\",\"building_age\",\"distance_to_center\"]],df[\"price\"]) # First we gave the independent data,\n",
    "#like the area,number_of_room then the price.\n",
    "# we gave dependent variable\n",
    "\n",
    "# let's predict\n",
    "reg.predict([[230,4,10,15]])\n"
   ]
  },
  {
   "cell_type": "code",
   "execution_count": 11,
   "id": "41f74954",
   "metadata": {},
   "outputs": [],
   "source": [
    "#In this example, our data set was small. In order for the machine to make realistic predictions,\n",
    "#we need to feed it with big data.\n"
   ]
  },
  {
   "cell_type": "code",
   "execution_count": null,
   "id": "b75170b5",
   "metadata": {},
   "outputs": [],
   "source": []
  }
 ],
 "metadata": {
  "kernelspec": {
   "display_name": "Python 3 (ipykernel)",
   "language": "python",
   "name": "python3"
  },
  "language_info": {
   "codemirror_mode": {
    "name": "ipython",
    "version": 3
   },
   "file_extension": ".py",
   "mimetype": "text/x-python",
   "name": "python",
   "nbconvert_exporter": "python",
   "pygments_lexer": "ipython3",
   "version": "3.10.9"
  }
 },
 "nbformat": 4,
 "nbformat_minor": 5
}
